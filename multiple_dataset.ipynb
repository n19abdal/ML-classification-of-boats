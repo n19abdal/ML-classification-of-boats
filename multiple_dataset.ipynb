{
 "cells": [
  {
   "cell_type": "markdown",
   "id": "e83edf30-aa8c-4547-8977-f0ff9656a8d6",
   "metadata": {},
   "source": [
    "# Multiple databses processing processing"
   ]
  },
  {
   "cell_type": "code",
   "execution_count": 11,
   "id": "bf143e30-6532-4224-8e3e-299fb66feb46",
   "metadata": {},
   "outputs": [],
   "source": [
    "from netCDF4 import Dataset\n",
    "import os\n",
    "from os import walk\n",
    "from os.path import join\n",
    "\n",
    "from geopy import distance\n",
    "import numpy as np\n",
    "import pandas as pd\n",
    "\n",
    "from datetime import datetime"
   ]
  },
  {
   "cell_type": "code",
   "execution_count": 12,
   "id": "ca9e45fb-f6b5-4653-a6b6-afc27140fa5e",
   "metadata": {},
   "outputs": [],
   "source": [
    "PATH_DATABASES = \"../afsV3\"\n",
    "\n",
    "# For the moment we are going to use one day\n",
    "DAY_DATABASE = list(os.walk(PATH_DATABASES))[1][0]  \n",
    "DATASABES_NAME = list(os.walk(PATH_DATABASES))[1][2]\n",
    "\n",
    "DAY_DATABASE_OUTPUT = '../afsV3_csv/2020-12'"
   ]
  },
  {
   "cell_type": "code",
   "execution_count": 27,
   "id": "92ec9cfd-929d-4210-9017-a3b8e0b55d1a",
   "metadata": {},
   "outputs": [],
   "source": [
    "for db_name in DATASABES_NAME:\n",
    "    file_path = os.path.join(DAY_DATABASE, db_name)\n",
    "    ds = Dataset(file_path)\n",
    "    \n",
    "    type_boat = ds.variables['type'][:]\n",
    "    lon = ds.variables['lon'][:]\n",
    "    lat = ds.variables['lat'][:]\n",
    "    \n",
    "    distance_array = []\n",
    "    non_masked_values_lat_lon = []\n",
    "    # It takes a lot of processing power\n",
    "    for id_boat in range(len(lat.data)):\n",
    "        lat_lon = list(zip(np.array(lat[id_boat].data[~lat[id_boat].mask]), np.array(lon[id_boat].data[~lon[id_boat].mask])))\n",
    "        lat_lon_cp = lat_lon.copy()\n",
    "\n",
    "        lat_lon.pop()\n",
    "        lat_lon_cp.pop(0)\n",
    "\n",
    "        total_distance = sum(list(map(lambda x, y: distance.distance(x, y).km, lat_lon, lat_lon_cp)))\n",
    "        distance_array.append(total_distance)\n",
    "        non_masked_values_lat_lon.append(len(lat_lon))\n",
    "        \n",
    "    # Boats that traveled more than 50000 km\n",
    "    index_superior_distance = np.where(np.array(distance_array) > 50000)\n",
    "\n",
    "    # Boats that traveled less than 10 km\n",
    "    index_inferior_distance = np.where(np.array(distance_array) < 10)\n",
    "\n",
    "    # Boats that have more than 5000 observations\n",
    "    index_masked_values = np.where(np.array(non_masked_values_lat_lon) > 5000)\n",
    "\n",
    "    # Boats that don't have a class\n",
    "    index_no_class = np.where(np.array(type_boat.data == 0))\n",
    "\n",
    "    index_to_remove = np.unique(np.concatenate((index_superior_distance[0], \n",
    "                                                index_inferior_distance[0], \n",
    "                                                index_masked_values[0],\n",
    "                                                index_no_class[0]\n",
    "                                               ), axis=None))\n",
    "        \n",
    "    type_boat = np.delete(ds.variables['type'][:], index_to_remove) # Doesn't have fill value\n",
    "    mmsi = np.delete(ds.variables['mmsi'][:], index_to_remove) # Doesn't have fill value\n",
    "    time = np.delete(ds.variables['time'][:], index_to_remove, 0) # Fill value -2147483600.0\n",
    "    lon = np.delete(ds.variables['lon'][:], index_to_remove, 0) # Fill value -999.0\n",
    "    lat = np.delete(ds.variables['lat'][:], index_to_remove, 0) # Fill value -99.0\n",
    "    cog = np.delete(ds.variables['cog'][:], index_to_remove, 0) # Fill value 1023.0,\n",
    "    sog = np.delete(ds.variables['sog'][:], index_to_remove, 0) # Fill value 3600.0\n",
    "    trh = np.delete(ds.variables['trh'][:], index_to_remove, 0) # Fill value 511.0\n",
    "    \n",
    "    df_complete = pd.DataFrame(columns=['mmsi', 'lat', 'lon', 'cog', 'sog', 'trh', 'time', \n",
    "                           'formatted_time', 'formatted_date', 'seq_number', 'observation_id'])\n",
    "\n",
    "    for id_boat in range(len(lat.data)):\n",
    "        lat_aux = lat[id_boat].data[~(lat[id_boat].data == lat.fill_value)]\n",
    "        lon_aux = lon[id_boat].data[~(lon[id_boat].data == lon.fill_value)]\n",
    "        cog_aux = cog[id_boat].data[~(cog[id_boat].data == cog.fill_value)]\n",
    "        sog_aux = sog[id_boat].data[~(sog[id_boat].data == sog.fill_value)]\n",
    "        trh_aux = trh[id_boat].data[~(trh[id_boat].data == trh.fill_value)]\n",
    "        time_aux = time[id_boat].data[~(time[id_boat].data == time.fill_value)]\n",
    "\n",
    "        if (len(lat_aux) == len(lon_aux) == len(cog_aux) == len(sog_aux) == len(trh_aux) == len(time_aux)):\n",
    "            data = {'mmsi': str(int(mmsi[id_boat])),\n",
    "                'boat_type': str(int(type_boat[id_boat])),\n",
    "                'lat': lat_aux,\n",
    "                'lon': lon_aux,\n",
    "                'cog': cog_aux,\n",
    "                'sog': sog_aux,\n",
    "                'trh': trh_aux,\n",
    "                'time': time_aux} \n",
    "\n",
    "            df = pd.DataFrame(data) \n",
    "            df['formatted_time'] = df.time.apply(lambda x: datetime.fromtimestamp(int(x)).time().isoformat())\n",
    "            df['formatted_date'] = df.time.apply(lambda x: datetime.fromtimestamp(int(x)).date().isoformat())\n",
    "            df['observation_id'] = id_boat\n",
    "\n",
    "            ## Should we order by date?\n",
    "            df_index = df.index.copy()\n",
    "            df.sort_values('time', ascending=True, inplace=True)\n",
    "\n",
    "            df['time_diff'] = df.time.diff()\n",
    "            df['seq_number'] = df_index\n",
    "\n",
    "            df_complete = df_complete.append(df, ignore_index=True)\n",
    "            \n",
    "    df_complete.to_csv(os.path.join(DAY_DATABASE_OUTPUT, db_name.replace(\".nc\", '.csv')), index = False)"
   ]
  },
  {
   "cell_type": "code",
   "execution_count": 52,
   "id": "55e2a033-d1ea-4aa3-a7f9-9705a5dd744c",
   "metadata": {},
   "outputs": [],
   "source": [
    "li = []\n",
    "for db_name in DATASABES_NAME:\n",
    "    df = pd.read_csv(os.path.join(DAY_DATABASE_OUTPUT, db_name.replace(\".nc\", '.csv')))\n",
    "    li.append(df)"
   ]
  },
  {
   "cell_type": "code",
   "execution_count": 53,
   "id": "ec369782-5504-447e-b321-30b0ed119c90",
   "metadata": {},
   "outputs": [],
   "source": [
    "for index, value in enumerate(li):\n",
    "    if index > 0:\n",
    "        last_val = li[index-1].observation_id.max()\n",
    "        li[index]['observation_id'] = li[index]['observation_id'] + last_val + 1"
   ]
  },
  {
   "cell_type": "code",
   "execution_count": 54,
   "id": "2f64b3cd-0804-4dc0-a548-41c3da8f0ea0",
   "metadata": {},
   "outputs": [],
   "source": [
    "df_complete = pd.concat(li, axis=0, ignore_index=True)"
   ]
  },
  {
   "cell_type": "code",
   "execution_count": 55,
   "id": "e6e18843-87b9-4f21-9fb6-310ab0e4ddc5",
   "metadata": {},
   "outputs": [],
   "source": [
    "import matplotlib.pyplot as plt\n",
    "import seaborn as sns"
   ]
  },
  {
   "cell_type": "code",
   "execution_count": 56,
   "id": "0faf11bf-1f38-4e85-8b4b-41c648860c98",
   "metadata": {},
   "outputs": [
    {
     "data": {
      "text/plain": [
       "70    4906675\n",
       "30     333552\n",
       "31      25347\n",
       "33      21378\n",
       "52      19547\n",
       "20       9375\n",
       "10       5129\n",
       "32       4637\n",
       "59       4144\n",
       "50       2761\n",
       "60       2432\n",
       "38        442\n",
       "57         85\n",
       "Name: boat_type, dtype: int64"
      ]
     },
     "execution_count": 56,
     "metadata": {},
     "output_type": "execute_result"
    }
   ],
   "source": [
    "df_complete.boat_type.value_counts()"
   ]
  },
  {
   "cell_type": "code",
   "execution_count": 57,
   "id": "80c1b033-302d-4236-b197-9529adac2c84",
   "metadata": {},
   "outputs": [
    {
     "data": {
      "image/png": "[encoded data removed]",
      "text/plain": [
       "<Figure size 432x288 with 1 Axes>"
      ]
     },
     "metadata": {
      "needs_background": "light"
     },
     "output_type": "display_data"
    }
   ],
   "source": [
    "df_complete.boat_type.value_counts().plot(kind = 'bar')\n",
    "plt.xticks(rotation = 45)\n",
    "plt.title('Types of boat count')\n",
    "plt.show()"
   ]
  },
  {
   "cell_type": "code",
   "execution_count": null,
   "id": "1755eb42-db98-46ea-a55e-621e000a9174",
   "metadata": {},
   "outputs": [],
   "source": [
    "# For the moment class 70 and 30"
   ]
  },
  {
   "cell_type": "code",
   "execution_count": 58,
   "id": "13be7f11-19fa-41e7-aaf0-b3b1c63402b5",
   "metadata": {},
   "outputs": [
    {
     "data": {
      "text/html": [
       "<div>\n",
       "<style scoped>\n",
       "    .dataframe tbody tr th:only-of-type {\n",
       "        vertical-align: middle;\n",
       "    }\n",
       "\n",
       "    .dataframe tbody tr th {\n",
       "        vertical-align: top;\n",
       "    }\n",
       "\n",
       "    .dataframe thead th {\n",
       "        text-align: right;\n",
       "    }\n",
       "</style>\n",
       "<table border=\"1\" class=\"dataframe\">\n",
       "  <thead>\n",
       "    <tr style=\"text-align: right;\">\n",
       "      <th></th>\n",
       "      <th>mmsi</th>\n",
       "      <th>lat</th>\n",
       "      <th>lon</th>\n",
       "      <th>cog</th>\n",
       "      <th>sog</th>\n",
       "      <th>trh</th>\n",
       "      <th>time</th>\n",
       "      <th>formatted_time</th>\n",
       "      <th>formatted_date</th>\n",
       "      <th>seq_number</th>\n",
       "      <th>observation_id</th>\n",
       "      <th>boat_type</th>\n",
       "      <th>time_diff</th>\n",
       "    </tr>\n",
       "  </thead>\n",
       "  <tbody>\n",
       "    <tr>\n",
       "      <th>1</th>\n",
       "      <td>256448000</td>\n",
       "      <td>-33.005613</td>\n",
       "      <td>27.973855</td>\n",
       "      <td>2.200000</td>\n",
       "      <td>0.3</td>\n",
       "      <td>210.0</td>\n",
       "      <td>1.606782e+09</td>\n",
       "      <td>01:12:45</td>\n",
       "      <td>2020-12-01</td>\n",
       "      <td>1</td>\n",
       "      <td>0</td>\n",
       "      <td>70</td>\n",
       "      <td>542.0</td>\n",
       "    </tr>\n",
       "    <tr>\n",
       "      <th>2</th>\n",
       "      <td>256448000</td>\n",
       "      <td>-33.005603</td>\n",
       "      <td>27.973860</td>\n",
       "      <td>33.799999</td>\n",
       "      <td>0.0</td>\n",
       "      <td>214.0</td>\n",
       "      <td>1.606782e+09</td>\n",
       "      <td>01:15:45</td>\n",
       "      <td>2020-12-01</td>\n",
       "      <td>2</td>\n",
       "      <td>0</td>\n",
       "      <td>70</td>\n",
       "      <td>180.0</td>\n",
       "    </tr>\n",
       "    <tr>\n",
       "      <th>3</th>\n",
       "      <td>256448000</td>\n",
       "      <td>-33.005617</td>\n",
       "      <td>27.973818</td>\n",
       "      <td>234.899994</td>\n",
       "      <td>0.3</td>\n",
       "      <td>212.0</td>\n",
       "      <td>1.606782e+09</td>\n",
       "      <td>01:18:44</td>\n",
       "      <td>2020-12-01</td>\n",
       "      <td>3</td>\n",
       "      <td>0</td>\n",
       "      <td>70</td>\n",
       "      <td>179.0</td>\n",
       "    </tr>\n",
       "    <tr>\n",
       "      <th>4</th>\n",
       "      <td>256448000</td>\n",
       "      <td>-33.005655</td>\n",
       "      <td>27.973780</td>\n",
       "      <td>215.300003</td>\n",
       "      <td>0.2</td>\n",
       "      <td>211.0</td>\n",
       "      <td>1.606782e+09</td>\n",
       "      <td>01:21:40</td>\n",
       "      <td>2020-12-01</td>\n",
       "      <td>4</td>\n",
       "      <td>0</td>\n",
       "      <td>70</td>\n",
       "      <td>176.0</td>\n",
       "    </tr>\n",
       "    <tr>\n",
       "      <th>5</th>\n",
       "      <td>256448000</td>\n",
       "      <td>-33.005655</td>\n",
       "      <td>27.973780</td>\n",
       "      <td>215.300003</td>\n",
       "      <td>0.2</td>\n",
       "      <td>211.0</td>\n",
       "      <td>1.606782e+09</td>\n",
       "      <td>01:21:41</td>\n",
       "      <td>2020-12-01</td>\n",
       "      <td>5</td>\n",
       "      <td>0</td>\n",
       "      <td>70</td>\n",
       "      <td>1.0</td>\n",
       "    </tr>\n",
       "  </tbody>\n",
       "</table>\n",
       "</div>"
      ],
      "text/plain": [
       "        mmsi        lat        lon         cog  sog    trh          time  \\\n",
       "1  256448000 -33.005613  27.973855    2.200000  0.3  210.0  1.606782e+09   \n",
       "2  256448000 -33.005603  27.973860   33.799999  0.0  214.0  1.606782e+09   \n",
       "3  256448000 -33.005617  27.973818  234.899994  0.3  212.0  1.606782e+09   \n",
       "4  256448000 -33.005655  27.973780  215.300003  0.2  211.0  1.606782e+09   \n",
       "5  256448000 -33.005655  27.973780  215.300003  0.2  211.0  1.606782e+09   \n",
       "\n",
       "  formatted_time formatted_date  seq_number  observation_id  boat_type  \\\n",
       "1       01:12:45     2020-12-01           1               0         70   \n",
       "2       01:15:45     2020-12-01           2               0         70   \n",
       "3       01:18:44     2020-12-01           3               0         70   \n",
       "4       01:21:40     2020-12-01           4               0         70   \n",
       "5       01:21:41     2020-12-01           5               0         70   \n",
       "\n",
       "   time_diff  \n",
       "1      542.0  \n",
       "2      180.0  \n",
       "3      179.0  \n",
       "4      176.0  \n",
       "5        1.0  "
      ]
     },
     "execution_count": 58,
     "metadata": {},
     "output_type": "execute_result"
    }
   ],
   "source": [
    "df_3070 = df_complete[(df_complete.boat_type == 70) | (df_complete.boat_type == 30)].copy()\n",
    "df_3070.dropna(inplace=True)\n",
    "df_3070.head()"
   ]
  },
  {
   "cell_type": "code",
   "execution_count": 59,
   "id": "5d39838e-440c-4dc6-88fc-3978c594eeca",
   "metadata": {},
   "outputs": [
    {
     "data": {
      "image/png": "[encoded data removed]",
      "text/plain": [
       "<Figure size 1440x720 with 1 Axes>"
      ]
     },
     "metadata": {
      "needs_background": "light"
     },
     "output_type": "display_data"
    }
   ],
   "source": [
    "labels = df_3070[(df_3070.time_diff < 30)].time_diff.value_counts().sort_index().index\n",
    "#class_total = df_3070[(df_3070.time_diff < 30)].time_diff.value_counts().sort_index()\n",
    "class_70 = df_3070[(df_3070.time_diff < 30) & (df_3070.boat_type == 70)].time_diff.value_counts().sort_index()\n",
    "class_30 = df_3070[(df_3070.time_diff < 30) & (df_3070.boat_type == 30)].time_diff.value_counts().sort_index()\n",
    "\n",
    "x = np.arange(len(labels))  # the label locations\n",
    "width = 0.35  # the width of the bars\n",
    "\n",
    "fig, ax = plt.subplots(figsize=(20, 10))\n",
    "rects1 = ax.bar(x - width/2, class_70, width, label='70 class')\n",
    "rects2 = ax.bar(x + width/2, class_30, width, label='30 class')\n",
    "\n",
    "# Add some text for labels, title and custom x-axis tick labels, etc.\n",
    "ax.set_ylabel('Number of messages')\n",
    "ax.set_title('Time difference distribution of messages by class', fontsize = 20)\n",
    "ax.set_xticks(x)\n",
    "ax.set_xticklabels(labels)\n",
    "ax.legend()\n",
    "\n",
    "ax.bar_label(rects1, padding=3)\n",
    "ax.bar_label(rects2, padding=3)\n",
    "\n",
    "fig.tight_layout()\n",
    "\n",
    "plt.show()"
   ]
  },
  {
   "cell_type": "code",
   "execution_count": 72,
   "id": "c25f8281-2300-4f39-a5c9-e3f541751aa7",
   "metadata": {},
   "outputs": [],
   "source": [
    "df_3070 = df_3070[df_3070.time_diff != 0]"
   ]
  },
  {
   "cell_type": "code",
   "execution_count": 73,
   "id": "4d893871-10a5-4f50-9b0d-92dabcee696b",
   "metadata": {},
   "outputs": [
    {
     "data": {
      "text/plain": [
       "(5132430, 14)"
      ]
     },
     "execution_count": 73,
     "metadata": {},
     "output_type": "execute_result"
    }
   ],
   "source": [
    "df_3070.shape"
   ]
  },
  {
   "cell_type": "code",
   "execution_count": 87,
   "id": "f2f90d0f-7538-43e8-9bc5-e98c0b8354b5",
   "metadata": {},
   "outputs": [
    {
     "data": {
      "text/plain": [
       "5132430"
      ]
     },
     "execution_count": 87,
     "metadata": {},
     "output_type": "execute_result"
    }
   ],
   "source": [
    "len(obs_ids)"
   ]
  },
  {
   "cell_type": "code",
   "execution_count": 78,
   "id": "5f73bc99-4e2c-4317-80c2-e2156ef26023",
   "metadata": {},
   "outputs": [],
   "source": [
    "obs_ids = np.array(df_3070.observation_id.values)\n",
    "time_diff = np.array(df_3070.time_diff.values)\n",
    "new_obs_ids = obs_ids.copy()"
   ]
  },
  {
   "cell_type": "code",
   "execution_count": 100,
   "id": "6646d35b-b7cb-44eb-ad91-24984f3cd3ae",
   "metadata": {},
   "outputs": [],
   "source": [
    "def get_segments_index(obs_ids, time_diff, new_obs_ids,\n",
    "                      wrong_value = -99, min_interval = 8,\n",
    "                       max_interval = 13, seq_size = 10):\n",
    "    i = 0\n",
    "\n",
    "    counter = 0\n",
    "    new_id = 0\n",
    "\n",
    "    while i < len(obs_ids):\n",
    "        if counter == seq_size:\n",
    "            counter = 0\n",
    "            new_id += 1\n",
    "            \n",
    "        if time_diff[i] > max_interval:\n",
    "            counter = 0\n",
    "            new_id += 1\n",
    "            new_obs_ids[i] = wrong_value\n",
    "            \n",
    "        elif ((time_diff[i] <= max_interval) & (time_diff[i] >= min_interval)):\n",
    "            new_obs_ids[i] = new_id\n",
    "            \n",
    "            if (new_obs_ids[i-1] == wrong_value):\n",
    "                new_obs_ids[i-1] = new_id\n",
    "                counter += 1\n",
    "            counter += 1\n",
    "             \n",
    "        else:   \n",
    "            counter = 0\n",
    "            new_id += 1    \n",
    "            new_obs_ids[i] = wrong_value  \n",
    "        i += 1   \n",
    "    return(new_obs_ids)"
   ]
  },
  {
   "cell_type": "code",
   "execution_count": 84,
   "id": "95e946e0-4672-4ffa-aad5-ea5d723a19de",
   "metadata": {},
   "outputs": [],
   "source": [
    "from tqdm import tqdm"
   ]
  },
  {
   "cell_type": "code",
   "execution_count": 85,
   "id": "86da61ad-3f87-491f-b891-01fde7f3cbed",
   "metadata": {},
   "outputs": [
    {
     "name": "stderr",
     "output_type": "stream",
     "text": [
      "100%|█████████████████████████████████████████████| 8/8 [01:11<00:00,  8.94s/it]\n"
     ]
    }
   ],
   "source": [
    "n_segments_30 = []\n",
    "n_segments_70 = []\n",
    "min_segment = 2\n",
    "max_segment = 10\n",
    "\n",
    "for j in tqdm(range(min_segment, max_segment)):\n",
    "    res = get_segments_index(obs_ids, time_diff, new_obs_ids, seq_size = j)\n",
    "    df_3070['new_observation_id'] = res\n",
    "    df_seq = df_3070.groupby('new_observation_id').filter(lambda x: len(x) == j)\n",
    "    aux = df_seq.boat_type.value_counts()\n",
    "    if (len(aux) == 2):\n",
    "        n_segments_30.append(aux.values[1]/j)\n",
    "        n_segments_70.append(aux.values[0]/j)\n",
    "    elif (len(aux) == 1):\n",
    "        n_segments_30.append(0)\n",
    "        n_segments_70.append(aux.values[0]/j)\n",
    "    else:\n",
    "        n_segments_30.append(0)\n",
    "        n_segments_70.append(0)  "
   ]
  },
  {
   "cell_type": "code",
   "execution_count": 98,
   "id": "94b7f0fd-581f-49e0-91ee-f1faa5e92d13",
   "metadata": {},
   "outputs": [
    {
     "data": {
      "text/html": [
       "<div>\n",
       "<style scoped>\n",
       "    .dataframe tbody tr th:only-of-type {\n",
       "        vertical-align: middle;\n",
       "    }\n",
       "\n",
       "    .dataframe tbody tr th {\n",
       "        vertical-align: top;\n",
       "    }\n",
       "\n",
       "    .dataframe thead th {\n",
       "        text-align: right;\n",
       "    }\n",
       "</style>\n",
       "<table border=\"1\" class=\"dataframe\">\n",
       "  <thead>\n",
       "    <tr style=\"text-align: right;\">\n",
       "      <th></th>\n",
       "      <th>mmsi</th>\n",
       "      <th>lat</th>\n",
       "      <th>lon</th>\n",
       "      <th>cog</th>\n",
       "      <th>sog</th>\n",
       "      <th>trh</th>\n",
       "      <th>time</th>\n",
       "      <th>formatted_time</th>\n",
       "      <th>formatted_date</th>\n",
       "      <th>seq_number</th>\n",
       "      <th>observation_id</th>\n",
       "      <th>boat_type</th>\n",
       "      <th>time_diff</th>\n",
       "      <th>new_observation_id</th>\n",
       "    </tr>\n",
       "  </thead>\n",
       "  <tbody>\n",
       "    <tr>\n",
       "      <th>1745735</th>\n",
       "      <td>477276200</td>\n",
       "      <td>-33.585145</td>\n",
       "      <td>30.802453</td>\n",
       "      <td>68.900002</td>\n",
       "      <td>10.7</td>\n",
       "      <td>66.0</td>\n",
       "      <td>1.607990e+09</td>\n",
       "      <td>00:58:50</td>\n",
       "      <td>2020-12-15</td>\n",
       "      <td>1839</td>\n",
       "      <td>1900</td>\n",
       "      <td>70</td>\n",
       "      <td>77.0</td>\n",
       "      <td>1524668</td>\n",
       "    </tr>\n",
       "  </tbody>\n",
       "</table>\n",
       "</div>"
      ],
      "text/plain": [
       "              mmsi        lat        lon        cog   sog   trh          time  \\\n",
       "1745735  477276200 -33.585145  30.802453  68.900002  10.7  66.0  1.607990e+09   \n",
       "\n",
       "        formatted_time formatted_date  seq_number  observation_id  boat_type  \\\n",
       "1745735       00:58:50     2020-12-15        1839            1900         70   \n",
       "\n",
       "         time_diff  new_observation_id  \n",
       "1745735       77.0             1524668  "
      ]
     },
     "execution_count": 98,
     "metadata": {},
     "output_type": "execute_result"
    }
   ],
   "source": [
    "df_seq[df_seq.boat_type == 70].groupby('new_observation_id').filter(lambda x: len(x) != 4)"
   ]
  },
  {
   "cell_type": "code",
   "execution_count": 99,
   "id": "a20449e6-efca-46ef-95e6-ae3c8cb524a8",
   "metadata": {},
   "outputs": [
    {
     "data": {
      "text/html": [
       "<div>\n",
       "<style scoped>\n",
       "    .dataframe tbody tr th:only-of-type {\n",
       "        vertical-align: middle;\n",
       "    }\n",
       "\n",
       "    .dataframe tbody tr th {\n",
       "        vertical-align: top;\n",
       "    }\n",
       "\n",
       "    .dataframe thead th {\n",
       "        text-align: right;\n",
       "    }\n",
       "</style>\n",
       "<table border=\"1\" class=\"dataframe\">\n",
       "  <thead>\n",
       "    <tr style=\"text-align: right;\">\n",
       "      <th></th>\n",
       "      <th>mmsi</th>\n",
       "      <th>lat</th>\n",
       "      <th>lon</th>\n",
       "      <th>cog</th>\n",
       "      <th>sog</th>\n",
       "      <th>trh</th>\n",
       "      <th>time</th>\n",
       "      <th>formatted_time</th>\n",
       "      <th>formatted_date</th>\n",
       "      <th>seq_number</th>\n",
       "      <th>observation_id</th>\n",
       "      <th>boat_type</th>\n",
       "      <th>time_diff</th>\n",
       "      <th>new_observation_id</th>\n",
       "    </tr>\n",
       "  </thead>\n",
       "  <tbody>\n",
       "    <tr>\n",
       "      <th>1745737</th>\n",
       "      <td>412420653</td>\n",
       "      <td>-33.222337</td>\n",
       "      <td>30.997717</td>\n",
       "      <td>249.899994</td>\n",
       "      <td>13.2</td>\n",
       "      <td>254.0</td>\n",
       "      <td>1.607975e+09</td>\n",
       "      <td>20:49:44</td>\n",
       "      <td>2020-12-14</td>\n",
       "      <td>1</td>\n",
       "      <td>1901</td>\n",
       "      <td>30</td>\n",
       "      <td>11.0</td>\n",
       "      <td>1524668</td>\n",
       "    </tr>\n",
       "    <tr>\n",
       "      <th>1745738</th>\n",
       "      <td>412420653</td>\n",
       "      <td>-33.222553</td>\n",
       "      <td>30.997013</td>\n",
       "      <td>250.100006</td>\n",
       "      <td>13.4</td>\n",
       "      <td>255.0</td>\n",
       "      <td>1.607975e+09</td>\n",
       "      <td>20:49:53</td>\n",
       "      <td>2020-12-14</td>\n",
       "      <td>2</td>\n",
       "      <td>1901</td>\n",
       "      <td>30</td>\n",
       "      <td>9.0</td>\n",
       "      <td>1524668</td>\n",
       "    </tr>\n",
       "    <tr>\n",
       "      <th>1745739</th>\n",
       "      <td>412420653</td>\n",
       "      <td>-33.222713</td>\n",
       "      <td>30.996457</td>\n",
       "      <td>252.899994</td>\n",
       "      <td>13.3</td>\n",
       "      <td>255.0</td>\n",
       "      <td>1.607975e+09</td>\n",
       "      <td>20:50:04</td>\n",
       "      <td>2020-12-14</td>\n",
       "      <td>3</td>\n",
       "      <td>1901</td>\n",
       "      <td>30</td>\n",
       "      <td>11.0</td>\n",
       "      <td>1524668</td>\n",
       "    </tr>\n",
       "  </tbody>\n",
       "</table>\n",
       "</div>"
      ],
      "text/plain": [
       "              mmsi        lat        lon         cog   sog    trh  \\\n",
       "1745737  412420653 -33.222337  30.997717  249.899994  13.2  254.0   \n",
       "1745738  412420653 -33.222553  30.997013  250.100006  13.4  255.0   \n",
       "1745739  412420653 -33.222713  30.996457  252.899994  13.3  255.0   \n",
       "\n",
       "                 time formatted_time formatted_date  seq_number  \\\n",
       "1745737  1.607975e+09       20:49:44     2020-12-14           1   \n",
       "1745738  1.607975e+09       20:49:53     2020-12-14           2   \n",
       "1745739  1.607975e+09       20:50:04     2020-12-14           3   \n",
       "\n",
       "         observation_id  boat_type  time_diff  new_observation_id  \n",
       "1745737            1901         30       11.0             1524668  \n",
       "1745738            1901         30        9.0             1524668  \n",
       "1745739            1901         30       11.0             1524668  "
      ]
     },
     "execution_count": 99,
     "metadata": {},
     "output_type": "execute_result"
    }
   ],
   "source": [
    "df_seq[df_seq.boat_type == 30].groupby('new_observation_id').filter(lambda x: len(x) != 4)"
   ]
  },
  {
   "cell_type": "code",
   "execution_count": 88,
   "id": "8bb3c818-795f-4370-af3e-eeb43142aa7d",
   "metadata": {},
   "outputs": [
    {
     "data": {
      "image/png": "[encoded data removed]",
      "text/plain": [
       "<Figure size 1440x720 with 1 Axes>"
      ]
     },
     "metadata": {
      "needs_background": "light"
     },
     "output_type": "display_data"
    }
   ],
   "source": [
    "labels = range(min_segment, max_segment)\n",
    "\n",
    "x = np.arange(len(labels))  # the label locations\n",
    "width = 0.35  # the width of the bars\n",
    "\n",
    "fig, ax = plt.subplots(figsize=(20, 10))\n",
    "rects1 = ax.bar(x - width/2, n_segments_30, width, label='30 class')\n",
    "rects2 = ax.bar(x + width/2, n_segments_70, width, label='70 class')\n",
    "\n",
    "# Add some text for labels, title and custom x-axis tick labels, etc.\n",
    "ax.set_ylabel('Number of segments')\n",
    "ax.set_title('Number of segments per segment size', fontsize=15)\n",
    "ax.set_xticks(x)\n",
    "ax.set_xticklabels(labels)\n",
    "ax.legend()\n",
    "\n",
    "ax.bar_label(rects1, padding=3)\n",
    "ax.bar_label(rects2, padding=3)\n",
    "\n",
    "fig.tight_layout()"
   ]
  },
  {
   "cell_type": "code",
   "execution_count": 102,
   "id": "a4bbf0e6-fc03-4590-bc09-ebf6845070e6",
   "metadata": {},
   "outputs": [
    {
     "name": "stderr",
     "output_type": "stream",
     "text": [
      "2021-11-11 23:04:21.190220: E tensorflow/stream_executor/cuda/cuda_driver.cc:271] failed call to cuInit: CUDA_ERROR_NO_DEVICE: no CUDA-capable device is detected\n",
      "2021-11-11 23:04:21.190276: I tensorflow/stream_executor/cuda/cuda_diagnostics.cc:156] kernel driver does not appear to be running on this host (ideapad): /proc/driver/nvidia/version does not exist\n"
     ]
    },
    {
     "data": {
      "text/plain": [
       "[PhysicalDevice(name='/physical_device:CPU:0', device_type='CPU')]"
      ]
     },
     "execution_count": 102,
     "metadata": {},
     "output_type": "execute_result"
    }
   ],
   "source": [
    "import tensorflow as tf\n",
    "tf.config.experimental.list_physical_devices(device_type=None)"
   ]
  },
  {
   "cell_type": "code",
   "execution_count": 103,
   "id": "9d5fd9f8-a55b-4a9e-b14f-15a3cb050164",
   "metadata": {},
   "outputs": [],
   "source": [
    "import random"
   ]
  },
  {
   "cell_type": "code",
   "execution_count": 101,
   "id": "cb407022-dca3-4cec-9217-f56868ca343c",
   "metadata": {},
   "outputs": [
    {
     "name": "stderr",
     "output_type": "stream",
     "text": [
      "2021-11-11 23:04:06.840563: W tensorflow/stream_executor/platform/default/dso_loader.cc:64] Could not load dynamic library 'libcudart.so.11.0'; dlerror: libcudart.so.11.0: cannot open shared object file: No such file or directory\n",
      "2021-11-11 23:04:06.840587: I tensorflow/stream_executor/cuda/cudart_stub.cc:29] Ignore above cudart dlerror if you do not have a GPU set up on your machine.\n"
     ]
    }
   ],
   "source": [
    "import torch\n",
    "import torch.autograd as autograd\n",
    "import torch.nn as nn\n",
    "import torch.nn.functional as f\n",
    "import torch.optim as optim\n",
    "from torch.utils.data import Dataset, DataLoader\n",
    "\n",
    "import pytorch_lightning as pl\n",
    "\n",
    "from sklearn.model_selection import train_test_split\n",
    "from sklearn.preprocessing import LabelEncoder\n",
    "\n",
    "from multiprocessing import cpu_count\n",
    "from pytorch_lightning.callbacks import ModelCheckpoint, EarlyStopping\n",
    "from pytorch_lightning.loggers import TensorBoardLogger\n",
    "from torchmetrics.functional import accuracy\n",
    "from sklearn.metrics import classification_report, confusion_matrix"
   ]
  },
  {
   "cell_type": "code",
   "execution_count": 104,
   "id": "c8c5b1fb-c05c-433c-a444-095ea7c065e9",
   "metadata": {},
   "outputs": [
    {
     "name": "stderr",
     "output_type": "stream",
     "text": [
      "Global seed set to 42\n"
     ]
    },
    {
     "data": {
      "text/plain": [
       "42"
      ]
     },
     "execution_count": 104,
     "metadata": {},
     "output_type": "execute_result"
    }
   ],
   "source": [
    "pl.seed_everything(42)"
   ]
  },
  {
   "cell_type": "code",
   "execution_count": 107,
   "id": "ef301b9f-9e38-4999-83c9-e57781fb5de7",
   "metadata": {},
   "outputs": [],
   "source": [
    "res = get_segments_index(obs_ids, time_diff, new_obs_ids, seq_size = 4)\n",
    "df_3070['new_observation_id'] = res\n",
    "df_ = df_3070.groupby('new_observation_id').filter(lambda x: len(x) == 4).copy()"
   ]
  },
  {
   "cell_type": "code",
   "execution_count": 106,
   "id": "61c02f7d-1f84-45de-9f0c-7746a7524ca3",
   "metadata": {},
   "outputs": [],
   "source": [
    "# Hotfix of get_Segments_index\n",
    "hf_70 = df_[df_.boat_type == 70].groupby('new_observation_id').filter(lambda x: len(x) == 4)\n",
    "hf_30 = df_[df_.boat_type == 30].groupby('new_observation_id').filter(lambda x: len(x) == 4)"
   ]
  },
  {
   "cell_type": "code",
   "execution_count": 108,
   "id": "4efcdb74-1e16-409b-ad81-b8d342938f8a",
   "metadata": {},
   "outputs": [],
   "source": [
    "df_8 = pd.concat([hf_70, hf_30], axis=0, ignore_index=True)"
   ]
  },
  {
   "cell_type": "code",
   "execution_count": 112,
   "id": "4f8a9230-023c-47f0-adcb-f860103aefec",
   "metadata": {},
   "outputs": [],
   "source": [
    "sample_id_30 = df_8[df_8.boat_type == 30].new_observation_id.unique()\n",
    "sample_id_70 = random.sample(sorted(df_8[df_8.boat_type == 70].new_observation_id.unique()), 563*2)"
   ]
  },
  {
   "cell_type": "code",
   "execution_count": 113,
   "id": "16125abb-0908-45e5-9f69-a1a573650047",
   "metadata": {},
   "outputs": [],
   "source": [
    "balanced_sample = df_8[(df_8.new_observation_id.isin(sample_id_30)) | (df_8.new_observation_id.isin(sample_id_70))].copy()"
   ]
  },
  {
   "cell_type": "code",
   "execution_count": 114,
   "id": "7c666f67-7329-43e7-81d6-21887a9f2dd5",
   "metadata": {},
   "outputs": [],
   "source": [
    "label_encoder = LabelEncoder()\n",
    "encoded_labels = label_encoder.fit_transform(balanced_sample.boat_type) "
   ]
  },
  {
   "cell_type": "code",
   "execution_count": 116,
   "id": "1aa7cf4e-d7d6-419c-a799-7378f7092058",
   "metadata": {},
   "outputs": [
    {
     "data": {
      "text/plain": [
       "['lat', 'lon', 'cog', 'sog', 'trh']"
      ]
     },
     "execution_count": 116,
     "metadata": {},
     "output_type": "execute_result"
    }
   ],
   "source": [
    "balanced_sample[\"label\"] = encoded_labels\n",
    "\n",
    "FEATURE_COLUMNS = ['lat', 'lon', 'cog', 'sog', 'trh']\n",
    "FEATURE_COLUMNS"
   ]
  },
  {
   "cell_type": "code",
   "execution_count": 117,
   "id": "4d4febd0-b0b1-4ddd-84e7-84429a7ffe34",
   "metadata": {},
   "outputs": [],
   "source": [
    "sequences = []\n",
    "\n",
    "for series_id, group in balanced_sample.groupby(\"new_observation_id\"):\n",
    "    sequence_features = group[FEATURE_COLUMNS]\n",
    "    label = balanced_sample[balanced_sample.new_observation_id == series_id].iloc[0].label\n",
    "    \n",
    "    sequences.append((sequence_features, label))"
   ]
  },
  {
   "cell_type": "code",
   "execution_count": 118,
   "id": "62a8141b-f1f3-4ca7-b6fb-4c869a9a915a",
   "metadata": {},
   "outputs": [],
   "source": [
    "train_sequences, test_sequences = train_test_split(sequences, test_size = 0.2)"
   ]
  },
  {
   "cell_type": "code",
   "execution_count": 119,
   "id": "4e87ee09-152e-4029-8300-7235a5995f46",
   "metadata": {},
   "outputs": [],
   "source": [
    "class BoatDataset(Dataset):\n",
    "    def __init__(self, sequences):\n",
    "        self.sequences = sequences\n",
    "        \n",
    "    def __len__(self):\n",
    "        return len(self.sequences)\n",
    "    \n",
    "    def __getitem__(self, idx):\n",
    "        sequence, label = self.sequences[idx]\n",
    "        return dict(\n",
    "            sequence=torch.Tensor(sequence.to_numpy()),\n",
    "            label=torch.tensor(label).long()\n",
    "        )"
   ]
  },
  {
   "cell_type": "code",
   "execution_count": 120,
   "id": "239493a4-fe53-41e4-97d5-87599e4b5ef3",
   "metadata": {},
   "outputs": [],
   "source": [
    "class BoatDataModule(pl.LightningDataModule):\n",
    "    def __init__(self, train_sequences, test_sequences, batch_size):\n",
    "        super().__init__()\n",
    "        self.train_sequences = train_sequences\n",
    "        self.test_sequences = test_sequences\n",
    "        self.batch_size = batch_size\n",
    "        \n",
    "    def setup(self, stage=None):\n",
    "        self.train_dataset = BoatDataset(self.train_sequences)\n",
    "        self.test_dataset = BoatDataset(self.test_sequences)\n",
    "        \n",
    "    def train_dataloader(self):\n",
    "        return DataLoader(\n",
    "            self.train_dataset,\n",
    "            batch_size=self.batch_size,\n",
    "            shuffle=True,\n",
    "            num_workers=cpu_count()\n",
    "        )\n",
    "    \n",
    "    def val_dataloader(self):\n",
    "        return DataLoader(\n",
    "            self.test_dataset,\n",
    "            batch_size=self.batch_size,\n",
    "            shuffle=False,\n",
    "            num_workers=cpu_count()\n",
    "        )\n",
    "    \n",
    "    def test_dataloader(self):\n",
    "        return DataLoader(\n",
    "            self.test_dataset,\n",
    "            batch_size=self.batch_size,\n",
    "            shuffle=False,\n",
    "            num_workers=cpu_count()\n",
    "        )\n",
    "    "
   ]
  },
  {
   "cell_type": "code",
   "execution_count": 121,
   "id": "af67474c-84a4-4351-9ba4-bd8f549df91b",
   "metadata": {},
   "outputs": [],
   "source": [
    "N_EPOCHS = 300\n",
    "BATCH_SIZE = 1000\n",
    "\n",
    "data_module = BoatDataModule(train_sequences, test_sequences, BATCH_SIZE)"
   ]
  },
  {
   "cell_type": "code",
   "execution_count": 122,
   "id": "9573c46a-a2e2-4660-86f6-6edc2ed507f7",
   "metadata": {},
   "outputs": [],
   "source": [
    "class SequenceModel(nn.Module):\n",
    "    def __init__(self, n_features, n_classes, n_hidden=256, n_layers=3):\n",
    "        super().__init__()\n",
    "        \n",
    "        self.lstm = nn.LSTM(\n",
    "            input_size=n_features,\n",
    "            hidden_size=n_hidden,\n",
    "            num_layers=n_layers,\n",
    "            batch_first=True,\n",
    "            dropout=0.75\n",
    "        )\n",
    "        \n",
    "        self.classifier = nn.Linear(n_hidden, n_classes)\n",
    "        \n",
    "    def forward(self, x):\n",
    "        self.lstm.flatten_parameters()\n",
    "        _, (hidden, _) = self.lstm(x)\n",
    "        \n",
    "        out = hidden[-1]\n",
    "        \n",
    "        return self.classifier(out)"
   ]
  },
  {
   "cell_type": "code",
   "execution_count": 123,
   "id": "f6a516b3-42e6-4417-a2ba-edeb9af7cd4f",
   "metadata": {},
   "outputs": [],
   "source": [
    "class BoatPredictor(pl.LightningModule):\n",
    "    def __init__(self, n_features: int, n_classes: int):\n",
    "        super().__init__()\n",
    "        self.model = SequenceModel(n_features, n_classes)\n",
    "        self.criterion = nn.CrossEntropyLoss()\n",
    "        \n",
    "    def forward(self, x, labels=None):\n",
    "        output = self.model(x)\n",
    "        loss = 0\n",
    "        if labels is not None:\n",
    "            loss = self.criterion(output, labels)\n",
    "        return loss, output\n",
    "    \n",
    "    def training_step(self, batch, batch_idx):\n",
    "        sequences = batch[\"sequence\"]\n",
    "        labels = batch[\"label\"]\n",
    "        loss, outputs = self(sequences, labels)\n",
    "        predictions = torch.argmax(outputs, dim = 1)\n",
    "        step_accuracy = accuracy(predictions, labels)\n",
    "\n",
    "        self.log(\"train_loss\", loss, prog_bar=True, logger=True)\n",
    "        self.log(\"train_accuracy\", step_accuracy, prog_bar=True, logger=True)\n",
    "        return {'loss': loss, 'accuracy': step_accuracy}\n",
    "    \n",
    "    def validation_step(self, batch, batch_idx):\n",
    "        sequences = batch[\"sequence\"]\n",
    "        labels = batch[\"label\"]\n",
    "        loss, outputs = self(sequences, labels)\n",
    "        predictions = torch.argmax(outputs, dim = 1)\n",
    "        step_accuracy = accuracy(predictions, labels)\n",
    "\n",
    "        self.log(\"val_loss\", loss, prog_bar=True, logger=True)\n",
    "        self.log(\"val_accuracy\", step_accuracy, prog_bar=True, logger=True)\n",
    "        return {'loss': loss, 'accuracy': step_accuracy}\n",
    "    \n",
    "    def test_step(self, batch, batch_idx):\n",
    "        sequences = batch[\"sequence\"]\n",
    "        labels = batch[\"label\"]\n",
    "        loss, outputs = self(sequences, labels)\n",
    "        predictions = torch.argmax(outputs, dim = 1)\n",
    "        step_accuracy = accuracy(predictions, labels)\n",
    "\n",
    "        self.log(\"test_loss\", loss, prog_bar=True, logger=True)\n",
    "        self.log(\"test_accuracy\", step_accuracy, prog_bar=True, logger=True)\n",
    "        return {'loss': loss, 'accuracy': step_accuracy}\n",
    "    \n",
    "    def configure_optimizers(self):\n",
    "        return optim.Adam(self.parameters(), lr=0.0001)"
   ]
  },
  {
   "cell_type": "code",
   "execution_count": 124,
   "id": "ef551a3d-ff7a-4118-8224-21d4791d72d9",
   "metadata": {},
   "outputs": [],
   "source": [
    "model = BoatPredictor(\n",
    "    n_features=len(FEATURE_COLUMNS), \n",
    "    n_classes=2)"
   ]
  },
  {
   "cell_type": "code",
   "execution_count": 125,
   "id": "09517265-89ff-4f7c-9235-bb008c394b04",
   "metadata": {},
   "outputs": [
    {
     "data": {
      "text/html": [
       "\n",
       "      <iframe id=\"tensorboard-frame-530a37df0bc61066\" width=\"100%\" height=\"800\" frameborder=\"0\">\n",
       "      </iframe>\n",
       "      <script>\n",
       "        (function() {\n",
       "          const frame = document.getElementById(\"tensorboard-frame-530a37df0bc61066\");\n",
       "          const url = new URL(\"/\", window.location);\n",
       "          const port = 6006;\n",
       "          if (port) {\n",
       "            url.port = port;\n",
       "          }\n",
       "          frame.src = url;\n",
       "        })();\n",
       "      </script>\n",
       "    "
      ],
      "text/plain": [
       "<IPython.core.display.HTML object>"
      ]
     },
     "metadata": {},
     "output_type": "display_data"
    }
   ],
   "source": [
    "%load_ext tensorboard\n",
    "%tensorboard --logdir ./lightning_logs"
   ]
  },
  {
   "cell_type": "code",
   "execution_count": 126,
   "id": "2e5fb174-2adc-4878-8f56-1af9b7a5b23c",
   "metadata": {},
   "outputs": [
    {
     "name": "stderr",
     "output_type": "stream",
     "text": [
      "/home/emilio/anaconda3/envs/fml/lib/python3.9/site-packages/pytorch_lightning/trainer/connectors/callback_connector.py:147: LightningDeprecationWarning: Setting `Trainer(checkpoint_callback=<pytorch_lightning.callbacks.model_checkpoint.ModelCheckpoint object at 0x7f01b4e4efd0>)` is deprecated in v1.5 and will be removed in v1.7. Please consider using `Trainer(enable_checkpointing=<pytorch_lightning.callbacks.model_checkpoint.ModelCheckpoint object at 0x7f01b4e4efd0>)`.\n",
      "  rank_zero_deprecation(\n",
      "/home/emilio/anaconda3/envs/fml/lib/python3.9/site-packages/pytorch_lightning/trainer/connectors/callback_connector.py:90: LightningDeprecationWarning: Setting `Trainer(progress_bar_refresh_rate=0)` is deprecated in v1.5 and will be removed in v1.7. Please pass `pytorch_lightning.callbacks.progress.TQDMProgressBar` with `refresh_rate` directly to the Trainer's `callbacks` argument instead. Or, to disable the progress bar pass `enable_progress_bar = False` to the Trainer.\n",
      "  rank_zero_deprecation(\n",
      "GPU available: False, used: False\n",
      "TPU available: False, using: 0 TPU cores\n",
      "IPU available: False, using: 0 IPUs\n"
     ]
    }
   ],
   "source": [
    "checkpoint_callback = ModelCheckpoint(\n",
    "    dirpath=\"checkpoints\",\n",
    "    filename=\"best-checkpoint\",\n",
    "    save_top_k=1,\n",
    "    verbose=True,\n",
    "    monitor=\"var_loss\",\n",
    "    mode=\"min\"\n",
    ")\n",
    "\n",
    "logger = TensorBoardLogger(\"lightning_logs\", name=\"surface\")\n",
    "\n",
    "trainer = pl.Trainer(\n",
    "    logger=logger,\n",
    "    checkpoint_callback=checkpoint_callback,\n",
    "    max_epochs=N_EPOCHS,\n",
    "    progress_bar_refresh_rate=0\n",
    ")"
   ]
  },
  {
   "cell_type": "code",
   "execution_count": 127,
   "id": "c750bf77-8f02-479f-8713-10e5d95cb9ca",
   "metadata": {},
   "outputs": [
    {
     "name": "stderr",
     "output_type": "stream",
     "text": [
      "\n",
      "  | Name      | Type             | Params\n",
      "-----------------------------------------------\n",
      "0 | model     | SequenceModel    | 1.3 M \n",
      "1 | criterion | CrossEntropyLoss | 0     \n",
      "-----------------------------------------------\n",
      "1.3 M     Trainable params\n",
      "0         Non-trainable params\n",
      "1.3 M     Total params\n",
      "5.290     Total estimated model params size (MB)\n",
      "Global seed set to 42\n",
      "/home/emilio/anaconda3/envs/fml/lib/python3.9/site-packages/pytorch_lightning/trainer/data_loading.py:393: UserWarning: The number of training samples (2) is smaller than the logging interval Trainer(log_every_n_steps=50). Set a lower value for log_every_n_steps if you want to see logs for the training epoch.\n",
      "  rank_zero_warn(\n"
     ]
    }
   ],
   "source": [
    "trainer.fit(model, data_module)"
   ]
  },
  {
   "cell_type": "code",
   "execution_count": 130,
   "id": "4b21e2eb-3474-46f5-97e9-5b8264deee24",
   "metadata": {},
   "outputs": [
    {
     "name": "stderr",
     "output_type": "stream",
     "text": [
      "/home/emilio/anaconda3/envs/fml/lib/python3.9/site-packages/pytorch_lightning/trainer/trainer.py:1391: UserWarning: `.test(ckpt_path=None)` was called without a model. The best model of the previous `fit` call will be used. You can pass `test(ckpt_path='best')` to use and best model checkpoint and avoid this warning or `ckpt_path=trainer.model_checkpoint.last_model_path` to use the last model.\n",
      "  rank_zero_warn(\n",
      "Restoring states from the checkpoint path at lightning_logs/surface/version_0/checkpoints/epoch=299-step=599.ckpt\n",
      "Loaded model weights from checkpoint at lightning_logs/surface/version_0/checkpoints/epoch=299-step=599.ckpt\n"
     ]
    },
    {
     "name": "stdout",
     "output_type": "stream",
     "text": [
      "--------------------------------------------------------------------------------\n",
      "DATALOADER:0 TEST RESULTS\n",
      "{'test_accuracy': 0.9142012000083923, 'test_loss': 0.2168135792016983}\n",
      "--------------------------------------------------------------------------------\n"
     ]
    },
    {
     "data": {
      "text/plain": [
       "[{'test_loss': 0.2168135792016983, 'test_accuracy': 0.9142012000083923}]"
      ]
     },
     "execution_count": 130,
     "metadata": {},
     "output_type": "execute_result"
    }
   ],
   "source": [
    "trainer.test(dataloaders=data_module)"
   ]
  },
  {
   "cell_type": "code",
   "execution_count": 128,
   "id": "98d79004-f934-41b5-a529-11155c20807b",
   "metadata": {},
   "outputs": [
    {
     "name": "stderr",
     "output_type": "stream",
     "text": [
      "100%|████████████████████████████████████████| 338/338 [00:00<00:00, 841.96it/s]\n"
     ]
    }
   ],
   "source": [
    "model.freeze()\n",
    "\n",
    "test_dataset = BoatDataset(test_sequences)\n",
    "\n",
    "predictions = []\n",
    "labels = []\n",
    "\n",
    "for item in tqdm(test_dataset):\n",
    "    sequence = item[\"sequence\"]\n",
    "    label = item[\"label\"]\n",
    "    \n",
    "    _, output = model(sequence.unsqueeze(dim = 0))\n",
    "    predictions.append(torch.argmax(output, dim = 1).numpy()[0])\n",
    "    labels.append(label.item())"
   ]
  },
  {
   "cell_type": "code",
   "execution_count": 129,
   "id": "300f0f21-b2d5-4338-9166-7e33c4061587",
   "metadata": {},
   "outputs": [
    {
     "data": {
      "text/html": [
       "<div>\n",
       "<style scoped>\n",
       "    .dataframe tbody tr th:only-of-type {\n",
       "        vertical-align: middle;\n",
       "    }\n",
       "\n",
       "    .dataframe tbody tr th {\n",
       "        vertical-align: top;\n",
       "    }\n",
       "\n",
       "    .dataframe thead th {\n",
       "        text-align: right;\n",
       "    }\n",
       "</style>\n",
       "<table border=\"1\" class=\"dataframe\">\n",
       "  <thead>\n",
       "    <tr style=\"text-align: right;\">\n",
       "      <th></th>\n",
       "      <th>predictions</th>\n",
       "      <th>labels</th>\n",
       "    </tr>\n",
       "  </thead>\n",
       "  <tbody>\n",
       "    <tr>\n",
       "      <th>0</th>\n",
       "      <td>1</td>\n",
       "      <td>1</td>\n",
       "    </tr>\n",
       "    <tr>\n",
       "      <th>1</th>\n",
       "      <td>1</td>\n",
       "      <td>1</td>\n",
       "    </tr>\n",
       "    <tr>\n",
       "      <th>2</th>\n",
       "      <td>1</td>\n",
       "      <td>1</td>\n",
       "    </tr>\n",
       "    <tr>\n",
       "      <th>3</th>\n",
       "      <td>0</td>\n",
       "      <td>0</td>\n",
       "    </tr>\n",
       "    <tr>\n",
       "      <th>4</th>\n",
       "      <td>0</td>\n",
       "      <td>0</td>\n",
       "    </tr>\n",
       "    <tr>\n",
       "      <th>5</th>\n",
       "      <td>1</td>\n",
       "      <td>1</td>\n",
       "    </tr>\n",
       "    <tr>\n",
       "      <th>6</th>\n",
       "      <td>1</td>\n",
       "      <td>0</td>\n",
       "    </tr>\n",
       "    <tr>\n",
       "      <th>7</th>\n",
       "      <td>0</td>\n",
       "      <td>0</td>\n",
       "    </tr>\n",
       "    <tr>\n",
       "      <th>8</th>\n",
       "      <td>1</td>\n",
       "      <td>1</td>\n",
       "    </tr>\n",
       "    <tr>\n",
       "      <th>9</th>\n",
       "      <td>1</td>\n",
       "      <td>1</td>\n",
       "    </tr>\n",
       "  </tbody>\n",
       "</table>\n",
       "</div>"
      ],
      "text/plain": [
       "   predictions  labels\n",
       "0            1       1\n",
       "1            1       1\n",
       "2            1       1\n",
       "3            0       0\n",
       "4            0       0\n",
       "5            1       1\n",
       "6            1       0\n",
       "7            0       0\n",
       "8            1       1\n",
       "9            1       1"
      ]
     },
     "execution_count": 129,
     "metadata": {},
     "output_type": "execute_result"
    }
   ],
   "source": [
    "test_results = pd.DataFrame.from_dict({'predictions': predictions, 'labels': labels})\n",
    "test_results.head(10)"
   ]
  },
  {
   "cell_type": "code",
   "execution_count": 131,
   "id": "80fbfba5-2d4c-45c2-b769-0d47e6545cb2",
   "metadata": {},
   "outputs": [
    {
     "data": {
      "text/plain": [
       "338"
      ]
     },
     "execution_count": 131,
     "metadata": {},
     "output_type": "execute_result"
    }
   ],
   "source": [
    "test_results.shape[0]"
   ]
  },
  {
   "cell_type": "code",
   "execution_count": 132,
   "id": "11cb543a-4f97-4500-bb77-29ef8f4b490b",
   "metadata": {},
   "outputs": [
    {
     "data": {
      "text/plain": [
       "309"
      ]
     },
     "execution_count": 132,
     "metadata": {},
     "output_type": "execute_result"
    }
   ],
   "source": [
    "test_results[test_results.predictions == test_results.labels].shape[0]"
   ]
  },
  {
   "cell_type": "code",
   "execution_count": 133,
   "id": "4b660e1f-2dc5-43a7-8168-966fb7261f99",
   "metadata": {},
   "outputs": [
    {
     "data": {
      "text/plain": [
       "29"
      ]
     },
     "execution_count": 133,
     "metadata": {},
     "output_type": "execute_result"
    }
   ],
   "source": [
    "test_results[test_results.predictions != test_results.labels].shape[0]"
   ]
  },
  {
   "cell_type": "code",
   "execution_count": 134,
   "id": "f5f8d694-4363-42dd-9d92-15db9d343d05",
   "metadata": {},
   "outputs": [
    {
     "data": {
      "text/html": [
       "<div>\n",
       "<style scoped>\n",
       "    .dataframe tbody tr th:only-of-type {\n",
       "        vertical-align: middle;\n",
       "    }\n",
       "\n",
       "    .dataframe tbody tr th {\n",
       "        vertical-align: top;\n",
       "    }\n",
       "\n",
       "    .dataframe thead th {\n",
       "        text-align: right;\n",
       "    }\n",
       "</style>\n",
       "<table border=\"1\" class=\"dataframe\">\n",
       "  <thead>\n",
       "    <tr style=\"text-align: right;\">\n",
       "      <th></th>\n",
       "      <th>predictions</th>\n",
       "      <th>labels</th>\n",
       "    </tr>\n",
       "  </thead>\n",
       "  <tbody>\n",
       "    <tr>\n",
       "      <th>6</th>\n",
       "      <td>1</td>\n",
       "      <td>0</td>\n",
       "    </tr>\n",
       "    <tr>\n",
       "      <th>16</th>\n",
       "      <td>1</td>\n",
       "      <td>0</td>\n",
       "    </tr>\n",
       "    <tr>\n",
       "      <th>18</th>\n",
       "      <td>1</td>\n",
       "      <td>0</td>\n",
       "    </tr>\n",
       "    <tr>\n",
       "      <th>37</th>\n",
       "      <td>0</td>\n",
       "      <td>1</td>\n",
       "    </tr>\n",
       "    <tr>\n",
       "      <th>43</th>\n",
       "      <td>0</td>\n",
       "      <td>1</td>\n",
       "    </tr>\n",
       "    <tr>\n",
       "      <th>54</th>\n",
       "      <td>0</td>\n",
       "      <td>1</td>\n",
       "    </tr>\n",
       "    <tr>\n",
       "      <th>59</th>\n",
       "      <td>1</td>\n",
       "      <td>0</td>\n",
       "    </tr>\n",
       "    <tr>\n",
       "      <th>72</th>\n",
       "      <td>0</td>\n",
       "      <td>1</td>\n",
       "    </tr>\n",
       "    <tr>\n",
       "      <th>77</th>\n",
       "      <td>0</td>\n",
       "      <td>1</td>\n",
       "    </tr>\n",
       "    <tr>\n",
       "      <th>108</th>\n",
       "      <td>1</td>\n",
       "      <td>0</td>\n",
       "    </tr>\n",
       "    <tr>\n",
       "      <th>121</th>\n",
       "      <td>0</td>\n",
       "      <td>1</td>\n",
       "    </tr>\n",
       "    <tr>\n",
       "      <th>123</th>\n",
       "      <td>0</td>\n",
       "      <td>1</td>\n",
       "    </tr>\n",
       "    <tr>\n",
       "      <th>126</th>\n",
       "      <td>0</td>\n",
       "      <td>1</td>\n",
       "    </tr>\n",
       "    <tr>\n",
       "      <th>129</th>\n",
       "      <td>1</td>\n",
       "      <td>0</td>\n",
       "    </tr>\n",
       "    <tr>\n",
       "      <th>134</th>\n",
       "      <td>1</td>\n",
       "      <td>0</td>\n",
       "    </tr>\n",
       "    <tr>\n",
       "      <th>140</th>\n",
       "      <td>0</td>\n",
       "      <td>1</td>\n",
       "    </tr>\n",
       "    <tr>\n",
       "      <th>144</th>\n",
       "      <td>0</td>\n",
       "      <td>1</td>\n",
       "    </tr>\n",
       "    <tr>\n",
       "      <th>161</th>\n",
       "      <td>1</td>\n",
       "      <td>0</td>\n",
       "    </tr>\n",
       "    <tr>\n",
       "      <th>168</th>\n",
       "      <td>0</td>\n",
       "      <td>1</td>\n",
       "    </tr>\n",
       "    <tr>\n",
       "      <th>172</th>\n",
       "      <td>0</td>\n",
       "      <td>1</td>\n",
       "    </tr>\n",
       "    <tr>\n",
       "      <th>212</th>\n",
       "      <td>0</td>\n",
       "      <td>1</td>\n",
       "    </tr>\n",
       "    <tr>\n",
       "      <th>213</th>\n",
       "      <td>0</td>\n",
       "      <td>1</td>\n",
       "    </tr>\n",
       "    <tr>\n",
       "      <th>217</th>\n",
       "      <td>0</td>\n",
       "      <td>1</td>\n",
       "    </tr>\n",
       "    <tr>\n",
       "      <th>219</th>\n",
       "      <td>1</td>\n",
       "      <td>0</td>\n",
       "    </tr>\n",
       "    <tr>\n",
       "      <th>236</th>\n",
       "      <td>0</td>\n",
       "      <td>1</td>\n",
       "    </tr>\n",
       "    <tr>\n",
       "      <th>279</th>\n",
       "      <td>0</td>\n",
       "      <td>1</td>\n",
       "    </tr>\n",
       "    <tr>\n",
       "      <th>290</th>\n",
       "      <td>0</td>\n",
       "      <td>1</td>\n",
       "    </tr>\n",
       "    <tr>\n",
       "      <th>322</th>\n",
       "      <td>0</td>\n",
       "      <td>1</td>\n",
       "    </tr>\n",
       "    <tr>\n",
       "      <th>323</th>\n",
       "      <td>1</td>\n",
       "      <td>0</td>\n",
       "    </tr>\n",
       "  </tbody>\n",
       "</table>\n",
       "</div>"
      ],
      "text/plain": [
       "     predictions  labels\n",
       "6              1       0\n",
       "16             1       0\n",
       "18             1       0\n",
       "37             0       1\n",
       "43             0       1\n",
       "54             0       1\n",
       "59             1       0\n",
       "72             0       1\n",
       "77             0       1\n",
       "108            1       0\n",
       "121            0       1\n",
       "123            0       1\n",
       "126            0       1\n",
       "129            1       0\n",
       "134            1       0\n",
       "140            0       1\n",
       "144            0       1\n",
       "161            1       0\n",
       "168            0       1\n",
       "172            0       1\n",
       "212            0       1\n",
       "213            0       1\n",
       "217            0       1\n",
       "219            1       0\n",
       "236            0       1\n",
       "279            0       1\n",
       "290            0       1\n",
       "322            0       1\n",
       "323            1       0"
      ]
     },
     "execution_count": 134,
     "metadata": {},
     "output_type": "execute_result"
    }
   ],
   "source": [
    "errors_ = test_results[test_results.predictions != test_results.labels]\n",
    "errors_"
   ]
  },
  {
   "cell_type": "code",
   "execution_count": 135,
   "id": "0609b7de-55c9-4717-b65d-06f2cbd74028",
   "metadata": {},
   "outputs": [
    {
     "data": {
      "text/plain": [
       "19"
      ]
     },
     "execution_count": 135,
     "metadata": {},
     "output_type": "execute_result"
    }
   ],
   "source": [
    "# Class 70\n",
    "(errors_.labels == 1).sum()"
   ]
  },
  {
   "cell_type": "code",
   "execution_count": 136,
   "id": "9fe03f42-0f1a-4beb-a1de-c4bb8fedad53",
   "metadata": {},
   "outputs": [
    {
     "data": {
      "text/plain": [
       "10"
      ]
     },
     "execution_count": 136,
     "metadata": {},
     "output_type": "execute_result"
    }
   ],
   "source": [
    "# Class 30\n",
    "(errors_.labels == 0).sum()"
   ]
  }
 ],
 "metadata": {
  "kernelspec": {
   "display_name": "Python 3 (ipykernel)",
   "language": "python",
   "name": "python3"
  },
  "language_info": {
   "codemirror_mode": {
    "name": "ipython",
    "version": 3
   },
   "file_extension": ".py",
   "mimetype": "text/x-python",
   "name": "python",
   "nbconvert_exporter": "python",
   "pygments_lexer": "ipython3",
   "version": "3.9.7"
  }
 },
 "nbformat": 4,
 "nbformat_minor": 5
}
